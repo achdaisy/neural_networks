{
  "nbformat": 4,
  "nbformat_minor": 0,
  "metadata": {
    "colab": {
      "provenance": [],
      "toc_visible": true
    },
    "kernelspec": {
      "name": "python3",
      "display_name": "Python 3"
    },
    "language_info": {
      "name": "python"
    }
  },
  "cells": [
    {
      "cell_type": "markdown",
      "source": [
        "**Supervised Learning**"
      ],
      "metadata": {
        "id": "Hx5MAeJx8XDv"
      }
    },
    {
      "cell_type": "markdown",
      "source": [],
      "metadata": {
        "id": "2ynlSe8h78a1"
      }
    },
    {
      "cell_type": "code",
      "execution_count": null,
      "metadata": {
        "id": "RvSqumdls3oG"
      },
      "outputs": [],
      "source": [
        "import numpy as np\n",
        "import matplotlib.pyplot as plt"
      ]
    },
    {
      "cell_type": "code",
      "source": [
        "#input and output data\n",
        "x = np.array([0.03, 0.19, 0.34, 0.46, 0.78, 0.81, 1.08, 1.18, 1.39, 1.60, 1.65, 1.90])\n",
        "y = np.array([0.67, 0.85, 1.05, 1.0, 1.40, 1.5, 1.3, 1.54, 1.55, 1.68, 1.73, 1.6])\n",
        "\n",
        "print(x)\n",
        "print(y)"
      ],
      "metadata": {
        "id": "oGhnfkpdtLjN"
      },
      "execution_count": null,
      "outputs": []
    },
    {
      "cell_type": "code",
      "source": [
        "#defining a 1D linear regression model\n",
        "def f(x, phi0, phi1):\n",
        "  y = phi0 + phi1 * x\n",
        "  return y"
      ],
      "metadata": {
        "id": "ttwow0EmuLys"
      },
      "execution_count": null,
      "outputs": []
    },
    {
      "cell_type": "code",
      "source": [
        "#function to help in the plotting of the data\n",
        "def plot(x, y, phi0, phi1):\n",
        "  fig,ax = plt.subplots() #creates a new figure and an axis using plt.subplots()\n",
        "\n",
        "  ax.scatter(x, y) #creates a scatter plot\n",
        "\n",
        "  plt.xlim([0, 2.0]) #sets the limits of the x and y axis\n",
        "  plt.ylim([0, 2.0])\n",
        "\n",
        "  ax.set_xlabel(\"Input, x\")\n",
        "  ax.set_ylabel(\"Output, y\")\n",
        "\n",
        "  #Drawing the line\n",
        "  x_line = np.arange(0, 2, 0.01) #creates the data points.\n",
        "  y_line = f(x_line, phi0, phi1)\n",
        "\n",
        "  plt.plot(x_line, y_line, 'b-', lw = 2) #color blue, line width 2\n",
        "\n",
        "  plt.show()\n"
      ],
      "metadata": {
        "id": "EuUrmWDLxHei"
      },
      "execution_count": null,
      "outputs": []
    },
    {
      "cell_type": "code",
      "source": [
        "#Initializing the y-intercept (bias) and the slope\n",
        "phi0 = 0.4 ; phi1 = 0.2\n",
        "\n",
        "#Calling the plot function\n",
        "plot(x, y, phi0, phi1)"
      ],
      "metadata": {
        "id": "sn1dIOZtgfQM"
      },
      "execution_count": null,
      "outputs": []
    },
    {
      "cell_type": "markdown",
      "source": [
        "# Loss\n"
      ],
      "metadata": {
        "id": "96VuQP21jMK8"
      }
    },
    {
      "cell_type": "code",
      "source": [
        "#function to calculate the loss\n",
        "def compute_loss(x, y, phi0, phi1):\n",
        "  N = len(x)\n",
        "\n",
        "  sum = np.sum((phi0 + (phi1*x) - y)**2)\n",
        "\n",
        "  loss = sum/N\n",
        "\n",
        "  return loss"
      ],
      "metadata": {
        "id": "EDuPrd5uhTz-"
      },
      "execution_count": null,
      "outputs": []
    },
    {
      "cell_type": "code",
      "source": [
        "#computing the loss for this model\n",
        "loss = compute_loss(x, y, phi0, phi1)\n",
        "print(f\"Your loss is {loss:3.2f} Ground Truth = 7.07\")"
      ],
      "metadata": {
        "colab": {
          "base_uri": "https://localhost:8080/"
        },
        "id": "fEOVr4vEnXvP",
        "outputId": "1f31fc4f-ec7a-40ee-9cc5-7238ab7c69b3"
      },
      "execution_count": null,
      "outputs": [
        {
          "output_type": "stream",
          "name": "stdout",
          "text": [
            "Your loss is 0.59 Ground Truth = 7.07\n"
          ]
        }
      ]
    },
    {
      "cell_type": "code",
      "source": [
        "#Setting the intercept and the slope as the one in figure 2.2c\n",
        "phi0 = 1.60 ; phi1 = -0.8\n",
        "\n",
        "#plotting the data and the model\n",
        "plot(x, y, phi0, phi1)\n",
        "loss = compute_loss(x, y, phi0, phi1)\n",
        "print(f\"The loss is {loss:3.2f}, Ground Truth = 10.28 \")"
      ],
      "metadata": {
        "id": "TC47bW5Bo92P"
      },
      "execution_count": null,
      "outputs": []
    },
    {
      "cell_type": "code",
      "source": [
        "#Changing parameters to manually fit the model as in 2.2d\n",
        "#Did it by hand.\n",
        "phi0 = 2.20 ; phi1 =-0.9\n",
        "\n",
        "plot(x,y,phi0,phi1)\n",
        "print(f'Your Loss = {compute_loss(x,y,phi0,phi1):3.2f}')\n"
      ],
      "metadata": {
        "id": "PKDqnStbrHA-"
      },
      "execution_count": null,
      "outputs": []
    },
    {
      "cell_type": "markdown",
      "source": [
        "# Visualizing/Plotting the loss function"
      ],
      "metadata": {
        "id": "9fNAKO3ouecz"
      }
    },
    {
      "cell_type": "code",
      "source": [
        "#Make a 2D grid of possible phi0 and phi1 values\n",
        "phi0_mesh, phi1_mesh = np.meshgrid(np.arange(0.0, 2.0, 0.02), np.arange(-1.0, 1.0, 0.02))\n",
        "\n",
        "#Making a 2D array to contain alll the losses.\n",
        "all_losses = np.zeros_like(phi1_mesh)\n",
        "\n",
        "# Reshape all_losses to make it a 2D array\n",
        "all_losses_2D = np.reshape(all_losses, phi0_mesh.shape)\n",
        "\n",
        "\n",
        "#Running through each combination of phi0, phi1 and computing loss\n",
        "for indices, temp in np.ndenumerate(phi1_mesh):\n",
        "  all_losses = compute_loss(x, y, phi0_mesh[indices], phi1_mesh[indices])"
      ],
      "metadata": {
        "id": "FbuQAA0SuaiV"
      },
      "execution_count": null,
      "outputs": []
    },
    {
      "cell_type": "code",
      "source": [
        "#Plotting the loss function as a heatmap\n",
        "fig = plt.figure()\n",
        "ax = plt.axes()\n",
        "fig.set_size_inches(7,7)\n",
        "\n",
        "levels = 256\n",
        "ax.contourf(phi0_mesh, phi1_mesh, all_losses_2D ,levels)\n",
        "\n",
        "levels = 40\n",
        "ax.contourf(phi0_mesh, phi1_mesh, all_losses_2D, levels, colors = ['#80808080'])\n",
        "ax.set_ylim ([1, -1])\n",
        "ax.set_xlabel(\"Intercept\")\n",
        "ax.set_ylabel(\"Slope\")\n",
        "\n",
        "ax.plot(phi0, phi1, \"ro\")\n",
        "plt.show()"
      ],
      "metadata": {
        "colab": {
          "base_uri": "https://localhost:8080/",
          "height": 624
        },
        "id": "QrtsMFU91kpW",
        "outputId": "47ece3b7-302c-46ad-dfea-48930d071c68"
      },
      "execution_count": null,
      "outputs": [
        {
          "output_type": "display_data",
          "data": {
            "text/plain": [
              "<Figure size 700x700 with 1 Axes>"
            ],
            "image/png": "[encoded data removed]"
          },
          "metadata": {}
        }
      ]
    }
  ]
}